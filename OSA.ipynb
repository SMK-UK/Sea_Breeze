{
 "cells": [
  {
   "cell_type": "markdown",
   "metadata": {},
   "source": [
    "#### Spectroscopic Data Analysis\n",
    "        Sean Keenan, PhD Physics\n",
    "        Quantum Memories Group, Heriot-Watt University, Edinburgh\n",
    "        2021"
   ]
  },
  {
   "cell_type": "code",
   "execution_count": null,
   "metadata": {},
   "outputs": [],
   "source": [
    "# import packages and initialise OSA to use\n",
    "import matplotlib.pyplot as mp\n",
    "import seabreeze as sb\n",
    "from seabreeze.spectrometers import list_devices, Spectrometer\n",
    "import numpy as np\n",
    "from spec_funcs import check_str\n",
    "import re\n",
    "\n",
    "spec = Spectrometer.from_first_available()"
   ]
  },
  {
   "cell_type": "markdown",
   "metadata": {},
   "source": [
    "Set measurement parameters & collect data"
   ]
  },
  {
   "cell_type": "code",
   "execution_count": null,
   "metadata": {},
   "outputs": [],
   "source": [
    "# choose to save\n",
    "save = True\n",
    "polarisation = \"174\"\n",
    "temp = \"160K\"\n",
    "# instant OD calculation\n",
    "OD_Calc = True\n",
    "ref_file = polarisation + \"_R.txt\"\n",
    "ref_folder = \"0215 Check Position\\\\References\"\n",
    "Start = 650\n",
    "Stop = 800\n",
    "# set integration time\n",
    "spec.integration_time_micros(1000) # microseconds\n",
    "averages = 1000\n",
    "# folder & file to save data to \n",
    "dir = 'C:\\\\Users\\\\sk88\\\\Desktop'\n",
    "folder = '20230215 Check Position\\\\' + temp\n",
    "raw_file = polarisation + \".txt\"\n",
    "path = dir + '\\\\' + folder + '\\\\' + raw_file\n",
    "\n",
    "if OD_Calc == True:\n",
    "    dataset = dir + '\\\\' + ref_folder + '\\\\' + ref_file\n",
    "    ref_wave = []\n",
    "    ref_I = []\n",
    "    with open(dataset, 'r', newline='') as raw_file:\n",
    "        for row in raw_file:\n",
    "            if check_str(row) == True:\n",
    "                temp = re.split('\\t|,|;', row)\n",
    "                ref_wave.append(float(temp[0]))\n",
    "                ref_I.append(float(temp[1]))\n",
    "        raw_file.close()\n",
    "\n",
    "# get wavelengths\n",
    "wavelength = spec.wavelengths()\n",
    "intensities = []\n",
    "\n",
    "for index in range(averages):\n",
    "    intensities.append(spec.intensities())\n",
    "\n",
    "new = 0\n",
    "for array in intensities:\n",
    "    new += array\n",
    "\n",
    "intensity = new / averages\n",
    "\n",
    "mp.plot(wavelength, intensity)\n",
    "mp.xlabel('wavelength')\n",
    "\n",
    "data = np.stack((wavelength, intensity), axis=1)\n",
    "\n",
    "if save == True:\n",
    "    with open(path, 'x') as new_file:\n",
    "        for line in data:\n",
    "            new_file.write(str(line[0]) + '\\t' + str(line[1]) + '\\n')\n",
    "        new_file.close()\n",
    "\n",
    "if OD_Calc == True:\n",
    "    corrected = [x*1.5 for x in ref_I]\n",
    "    OD = np.log(ref_I/intensity)\n",
    "    mp.figure()\n",
    "    mp.plot(wavelength[Start:Stop], OD[Start:Stop])"
   ]
  }
 ],
 "metadata": {
  "kernelspec": {
   "display_name": "Python 3.7.4 ('.sea_breeze': venv)",
   "language": "python",
   "name": "python3"
  },
  "language_info": {
   "codemirror_mode": {
    "name": "ipython",
    "version": 3
   },
   "file_extension": ".py",
   "mimetype": "text/x-python",
   "name": "python",
   "nbconvert_exporter": "python",
   "pygments_lexer": "ipython3",
   "version": "3.7.4"
  },
  "orig_nbformat": 4,
  "vscode": {
   "interpreter": {
    "hash": "dfe3df6b7f5ededa82957f2fc643b3434fd162ba694c853da53bae842584bfac"
   }
  }
 },
 "nbformat": 4,
 "nbformat_minor": 2
}
